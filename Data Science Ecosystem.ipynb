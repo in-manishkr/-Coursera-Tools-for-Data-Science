{
 "cells": [
  {
   "cell_type": "markdown",
   "metadata": {},
   "source": [
    "# Data Science Tools and Ecosystem"
   ]
  },
  {
   "cell_type": "markdown",
   "metadata": {},
   "source": [
    "This notebook summarises Data Science Tools and Ecosystem including Data Science Libraries, Languages etc etc."
   ]
  },
  {
   "cell_type": "markdown",
   "metadata": {},
   "source": [
    "Some of the popular Languages used by Data Science are:\n",
    "1. Python\n",
    "2. R Programming Language\n",
    "3. SQL\n",
    "4. Java\n",
    "5. C++ etc"
   ]
  },
  {
   "cell_type": "markdown",
   "metadata": {},
   "source": [
    "Libraries used for Data Science are:\n",
    "\n",
    "1. Pandas\n",
    "2. Numpy\n",
    "3. Scikit Learn\n",
    "4. Matplotlib\n",
    "5. SciPy\n",
    "6. Tensorflow\n",
    "7. Pytorch\n",
    "8. Keras etc\n"
   ]
  },
  {
   "cell_type": "markdown",
   "metadata": {},
   "source": [
    "|Tools for Data Science|\n",
    "|----------------------|\n",
    "|Tensorflow|\n",
    "|SAS|\n",
    "|Apache Hadoop|"
   ]
  },
  {
   "cell_type": "markdown",
   "metadata": {},
   "source": [
    "### Below is an example for arithmetic Expressions"
   ]
  },
  {
   "cell_type": "code",
   "execution_count": 6,
   "metadata": {},
   "outputs": [
    {
     "data": {
      "text/plain": [
       "1278"
      ]
     },
     "execution_count": 6,
     "metadata": {},
     "output_type": "execute_result"
    }
   ],
   "source": [
    "# Very Common Arithmetic Expression Example\n",
    "(16+2)*71"
   ]
  },
  {
   "cell_type": "code",
   "execution_count": 8,
   "metadata": {},
   "outputs": [
    {
     "data": {
      "text/plain": [
       "10.0"
      ]
     },
     "execution_count": 8,
     "metadata": {},
     "output_type": "execute_result"
    }
   ],
   "source": [
    "def convert_minutes_into_hours(minutes):\n",
    "    \"\"\"This method takes minutes and converts it into hours by dividing by 60\n",
    "    Args:\n",
    "    minutes (float): value that needs to be converted into Hours\n",
    "    \n",
    "    Returns:\n",
    "    hours calculated\n",
    "    \"\"\"\n",
    "    return minutes/60\n",
    "\n",
    "convert_minutes_into_hours(600)"
   ]
  },
  {
   "cell_type": "markdown",
   "metadata": {},
   "source": [
    "__Objective__\n",
    "\n",
    "* List Popular Languages for Data Science\n",
    "* List popular Libraries for Data Science\n",
    "* List Data Science Tools\n",
    "* How to provide comments in the cell\n"
   ]
  },
  {
   "cell_type": "markdown",
   "metadata": {},
   "source": [
    "## Author\n",
    "\n",
    "Manish Kumar"
   ]
  }
 ],
 "metadata": {
  "kernelspec": {
   "display_name": "Python 3 (ipykernel)",
   "language": "python",
   "name": "python3"
  },
  "language_info": {
   "codemirror_mode": {
    "name": "ipython",
    "version": 3
   },
   "file_extension": ".py",
   "mimetype": "text/x-python",
   "name": "python",
   "nbconvert_exporter": "python",
   "pygments_lexer": "ipython3",
   "version": "3.10.9"
  }
 },
 "nbformat": 4,
 "nbformat_minor": 1
}
